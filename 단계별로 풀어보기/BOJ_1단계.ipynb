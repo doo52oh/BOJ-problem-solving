{
  "nbformat": 4,
  "nbformat_minor": 0,
  "metadata": {
    "colab": {
      "name": "BOJ_1단계.ipynb",
      "provenance": [],
      "authorship_tag": "ABX9TyPuo+2Xeg7OezsaLh2VP/eH",
      "include_colab_link": true
    },
    "kernelspec": {
      "name": "python3",
      "display_name": "Python 3"
    },
    "language_info": {
      "name": "python"
    }
  },
  "cells": [
    {
      "cell_type": "markdown",
      "metadata": {
        "id": "view-in-github",
        "colab_type": "text"
      },
      "source": [
        "<a href=\"https://colab.research.google.com/github/doo52oh/BOJ-problem-solving/blob/main/%EB%8B%A8%EA%B3%84%EB%B3%84%EB%A1%9C%20%ED%92%80%EC%96%B4%EB%B3%B4%EA%B8%B0/BOJ_1%EB%8B%A8%EA%B3%84.ipynb\" target=\"_parent\"><img src=\"https://colab.research.google.com/assets/colab-badge.svg\" alt=\"Open In Colab\"/></a>"
      ]
    },
    {
      "cell_type": "markdown",
      "source": [
        "# [BOJ 단계별로 풀어보기](https://www.acmicpc.net/step)\n",
        "### [1단계 : 입출력과 사칙연산](https://www.acmicpc.net/step/1)\n",
        "\n",
        "설명 : 입력, 출력과 사칙연산을 연습해 봅시다. Hello World!\n"
      ],
      "metadata": {
        "id": "BEil68n1nCMi"
      }
    },
    {
      "cell_type": "markdown",
      "source": [
        "#### 1-1 \n",
        "문제번호 : 2557  \n",
        "제목 : Hello World  \n",
        "문제 : Hello World!를 출력하시오.  \n",
        "입력 : 없음  \n",
        "출력 : Hello World!를 출력하시오. \n"
      ],
      "metadata": {
        "id": "OWqICki1nVHz"
      }
    },
    {
      "cell_type": "code",
      "execution_count": 2,
      "metadata": {
        "colab": {
          "base_uri": "https://localhost:8080/"
        },
        "id": "ORQZMop9mW3C",
        "outputId": "39895c1b-b1c5-4cb3-c0aa-a81130d45575"
      },
      "outputs": [
        {
          "output_type": "stream",
          "name": "stdout",
          "text": [
            "Hello World!\n"
          ]
        }
      ],
      "source": [
        "print(\"Hello World!\")"
      ]
    },
    {
      "cell_type": "markdown",
      "source": [
        "#### 1-2 \n",
        "문제번호 : 10718  \n",
        "제목 : We love kriii  \n",
        "문제 : ACM-ICPC 인터넷 예선, Regional, 그리고 World Finals까지 이미 2회씩 진출해버린 kriii는 미련을 버리지 못하고 왠지 모르게 올해에도 파주 World Finals 준비 캠프에 참여했다.  \n",
        "대회를 뜰 줄 모르는 지박령 kriii를 위해서 격려의 문구를 출력해주자.  \n",
        "입력 : 없음  \n",
        "출력 : 두 줄에 걸쳐 \"강한친구 대한육군\"을 한 줄에 한 번씩 출력한다.\n"
      ],
      "metadata": {
        "id": "S7WwZo7MnwT7"
      }
    },
    {
      "cell_type": "code",
      "source": [
        "for i in range(2):\n",
        "  print(\"강한친구 대한육군\")"
      ],
      "metadata": {
        "colab": {
          "base_uri": "https://localhost:8080/"
        },
        "id": "eEkzAQIinrcN",
        "outputId": "4ca0e7c0-8880-4ba2-dd98-9149195eb64f"
      },
      "execution_count": 3,
      "outputs": [
        {
          "output_type": "stream",
          "name": "stdout",
          "text": [
            "강한친구 대한육군\n",
            "강한친구 대한육군\n"
          ]
        }
      ]
    },
    {
      "cell_type": "markdown",
      "source": [
        "#### 1-3\n",
        "문제번호 : 10171  \n",
        "제목 : 고양이   \n",
        "문제 : 아래 예제와 같이 고양이를 출력하시오.\n",
        "입력 : 없음  \n",
        "출력 : 고양이를 출력한다.  \n",
        "\\    /\\  \n",
        " )  ( ')  \n",
        "(  /  )  \n",
        " \\(__)|  \n",
        " "
      ],
      "metadata": {
        "id": "twBiDpLioMt0"
      }
    },
    {
      "cell_type": "code",
      "source": [
        "\n",
        "# BOJ 제출코드\n",
        "# print(\"\"\"\\\\    /\\\\\n",
        "#  )  ( ')\n",
        "# (  /  )\n",
        "#  \\\\(__)|\"\"\")\n",
        "\n",
        "print(\"\"\"\n",
        "\\\\    /\\\\\n",
        " )  ( ')\n",
        "(  /  )\n",
        " \\\\(__)|\"\"\")"
      ],
      "metadata": {
        "colab": {
          "base_uri": "https://localhost:8080/"
        },
        "id": "z5VI9RJloJxf",
        "outputId": "8440b0b8-a81e-4628-9f4b-6c55dddd7ced"
      },
      "execution_count": 9,
      "outputs": [
        {
          "output_type": "stream",
          "name": "stdout",
          "text": [
            "\n",
            "\\    /\\\n",
            " )  ( ')\n",
            "(  /  )\n",
            " \\(__)|\n"
          ]
        }
      ]
    },
    {
      "cell_type": "markdown",
      "source": [
        "#### 1-4\n",
        "문제번호 : 10172   \n",
        "제목 : 개     \n",
        "문제 : 아래 예제와 같이 개를 출력하시오.  \n",
        "입력 : 없음  \n",
        "출력 : 개를 출력한다.  \n",
        "|\\_/|  \n",
        "|q p|   /}  \n",
        "( 0 )\"\"\"\\  \n",
        "|\"^\"`    |  \n",
        "||_/=\\\\__|  \n",
        " "
      ],
      "metadata": {
        "id": "H5DVRmLdrjCp"
      }
    },
    {
      "cell_type": "code",
      "source": [
        "b = '''|\\\\_/|\n",
        "|q p|   /}\n",
        "( 0 )\"\"\"\\\\\n",
        "|\"^\"`    |\n",
        "||_/=\\\\\\\\__|'''\n",
        "print(b)\n"
      ],
      "metadata": {
        "colab": {
          "base_uri": "https://localhost:8080/"
        },
        "id": "OEx0iQe7riv9",
        "outputId": "cf4d7950-513b-4868-ab31-4c5142788adb"
      },
      "execution_count": 16,
      "outputs": [
        {
          "output_type": "stream",
          "name": "stdout",
          "text": [
            "|\\_/|\n",
            "|q p|   /}\n",
            "( 0 )\"\"\"\\\n",
            "|\"^\"`    |\n",
            "||_/=\\\\__|\n"
          ]
        }
      ]
    },
    {
      "cell_type": "markdown",
      "source": [
        "#### 1-5\n",
        "문제번호 : 1000   \n",
        "제목 : A+B     \n",
        "문제 : 두 정수 A와 B를 입력받은 다음, A+B를 출력하는 프로그램을 작성하시오.  \n",
        "입력 : 첫째 줄에 A와 B가 주어진다. (0 < A, B < 10)  \n",
        "출력 : 첫째 줄에 A+B를 출력한다.  \n",
        "\n",
        "예제 입력 : 1 2  \n",
        "예제 출력 : 3\n",
        " "
      ],
      "metadata": {
        "id": "M9ctdMWIuUcA"
      }
    },
    {
      "cell_type": "code",
      "source": [
        "a, b = map(int, input().split())\n",
        "print(a+b)"
      ],
      "metadata": {
        "colab": {
          "base_uri": "https://localhost:8080/"
        },
        "id": "NUwWDxgWuUNP",
        "outputId": "abd1b391-525d-45b9-d0a1-514a72e4c854"
      },
      "execution_count": 17,
      "outputs": [
        {
          "output_type": "stream",
          "name": "stdout",
          "text": [
            "1 2\n",
            "3\n"
          ]
        }
      ]
    },
    {
      "cell_type": "markdown",
      "source": [
        "#### 1-6\n",
        "문제번호 : 1001   \n",
        "제목 : A-B     \n",
        "문제 : 두 정수 A와 B를 입력받은 다음, A-B를 출력하는 프로그램을 작성하시오.\n",
        "입력 : 첫째 줄에 A와 B가 주어진다. (0 < A, B < 10)  \n",
        "출력 : 첫째 줄에 A-B를 출력한다.  \n",
        "\n",
        "예제 입력 : 3 2  \n",
        "예제 출력 : 1\n",
        " "
      ],
      "metadata": {
        "id": "609ECMeZvY62"
      }
    },
    {
      "cell_type": "code",
      "source": [
        "a, b = map(int, input().split())\n",
        "print(a-b)"
      ],
      "metadata": {
        "colab": {
          "base_uri": "https://localhost:8080/"
        },
        "id": "_6dBCYwfqhkv",
        "outputId": "97596d6e-eaf5-4674-bafb-a177a9cf71f1"
      },
      "execution_count": 19,
      "outputs": [
        {
          "output_type": "stream",
          "name": "stdout",
          "text": [
            "3 2\n",
            "1\n"
          ]
        }
      ]
    },
    {
      "cell_type": "markdown",
      "source": [
        "#### 1-7\n",
        "문제번호 : 10998   \n",
        "제목 : \tA×B      \n",
        "문제 : 두 정수 A와 B를 입력받은 다음, A×B를 출력하는 프로그램을 작성하시오.\n",
        "입력 : 첫째 줄에 A와 B가 주어진다. (0 < A, B < 10)  \n",
        "출력 : 첫째 줄에 A×B를 출력한다.   \n",
        "\n",
        "예제 입력 : 3 2  \n",
        "예제 출력 : 6\n",
        " "
      ],
      "metadata": {
        "id": "Tt0HuKNrxkZ4"
      }
    },
    {
      "cell_type": "code",
      "source": [
        "a, b = map(int, input().split())\n",
        "print(a*b)"
      ],
      "metadata": {
        "colab": {
          "base_uri": "https://localhost:8080/"
        },
        "id": "rx29FZFDvr7X",
        "outputId": "2983d0bb-344c-4902-a292-7e0f1a48d5b7"
      },
      "execution_count": 21,
      "outputs": [
        {
          "output_type": "stream",
          "name": "stdout",
          "text": [
            "3 5\n",
            "15\n"
          ]
        }
      ]
    },
    {
      "cell_type": "markdown",
      "source": [
        "#### 1-8\n",
        "문제번호 : 10998   \n",
        "제목 : \tA/B      \n",
        "문제 : 두 정수 A와 B를 입력받은 다음, A/B를 출력하는 프로그램을 작성하시오.  \n",
        "입력 : 첫째 줄에 A와 B가 주어진다. (0 < A, B < 10)  \n",
        "출력 : 첫째 줄에 A/B를 출력한다. 실제 정답과 출력값의 절대오차 또는 상대오차가 10-9 이하이면 정답이다.   \n",
        "\n",
        "예제 입력 : 4 2  \n",
        "예제 출력 : 2\n",
        " "
      ],
      "metadata": {
        "id": "YLDvMuo5x6rM"
      }
    },
    {
      "cell_type": "code",
      "source": [
        "a, b = map(int, input().split())\n",
        "print(a/b)"
      ],
      "metadata": {
        "colab": {
          "base_uri": "https://localhost:8080/"
        },
        "id": "IfvI9LKKxyOY",
        "outputId": "52d8e2b2-4412-43cc-e544-39a76ccdf9a1"
      },
      "execution_count": 23,
      "outputs": [
        {
          "output_type": "stream",
          "name": "stdout",
          "text": [
            "1 3\n",
            "0.3333333333333333\n"
          ]
        }
      ]
    },
    {
      "cell_type": "markdown",
      "source": [
        "#### 1-9\n",
        "문제번호 : 10869    \n",
        "제목 : \t사칙연산      \n",
        "문제 : 두 자연수 A와 B가 주어진다. 이때, A+B, A-B, A*B, A/B(몫), A%B(나머지)를 출력하는 프로그램을 작성하시오.   \n",
        "입력 : 두 자연수 A와 B가 주어진다. (1 ≤ A, B ≤ 10,000)  \n",
        "출력 : 첫째 줄에 A+B, 둘째 줄에 A-B, 셋째 줄에 A*B, 넷째 줄에 A/B, 다섯째 줄에 A%B를 출력한다.   \n",
        "\n",
        "예제 입력 : 7 3   \n",
        "예제 출력 :   \n",
        "10  \n",
        "4  \n",
        "21  \n",
        "2  \n",
        "1  \n",
        " "
      ],
      "metadata": {
        "id": "Uu63xRu2yU9N"
      }
    },
    {
      "cell_type": "code",
      "source": [
        "a, b = map(int, input().split())\n",
        "print(a+b)\n",
        "print(a-b)\n",
        "print(a*b)\n",
        "print(a//b)\n",
        "print(a%b)"
      ],
      "metadata": {
        "colab": {
          "base_uri": "https://localhost:8080/"
        },
        "id": "pw6mIPg_yHn5",
        "outputId": "c9a473e3-b0f5-4a6f-db10-739569743e78"
      },
      "execution_count": 25,
      "outputs": [
        {
          "output_type": "stream",
          "name": "stdout",
          "text": [
            "7 3\n",
            "10\n",
            "4\n",
            "21\n",
            "2\n",
            "1\n"
          ]
        }
      ]
    },
    {
      "cell_type": "markdown",
      "source": [
        "#### 1-10\n",
        "문제번호 : 10926    \n",
        "제목 : \t??!      \n",
        "문제 : 준하는 사이트에 회원가입을 하다가 joonas라는 아이디가 이미 존재하는 것을 보고 놀랐다. 준하는 놀람을 ??!로 표현한다. 준하가 가입하려고 하는 사이트에 이미 존재하는 아이디가 주어졌을 때, 놀람을 표현하는 프로그램을 작성하시오.   \n",
        "입력 : 첫째 줄에 준하가 가입하려고 하는 사이트에 이미 존재하는 아이디가 주어진다. 아이디는 알파벳 소문자로만 이루어져 있으며, 길이는 50자를 넘지 않는다.  \n",
        "출력 : 첫째 줄에 준하의 놀람을 출력한다. 놀람은 아이디 뒤에 ??!를 붙여서 나타낸다.   \n",
        "\n",
        "예제 입력 : joonas   \n",
        "예제 출력 : joonas??!  \n",
        " "
      ],
      "metadata": {
        "id": "6j20OzVHzNFf"
      }
    },
    {
      "cell_type": "code",
      "source": [
        "a = str(input())\n",
        "print(a+\"??!\")\n"
      ],
      "metadata": {
        "colab": {
          "base_uri": "https://localhost:8080/"
        },
        "id": "fsFUwyEHy_W6",
        "outputId": "1d7f84cc-7aed-4d0c-edcb-0284560b07f6"
      },
      "execution_count": 34,
      "outputs": [
        {
          "output_type": "stream",
          "name": "stdout",
          "text": [
            "joonas\n",
            "joonas??!\n"
          ]
        }
      ]
    },
    {
      "cell_type": "markdown",
      "source": [
        "#### 1-11\n",
        "문제번호 : 18108    \n",
        "제목 : \t1998년생인 내가 태국에서는 2541년생?!      \n",
        "문제 : ICPC Bangkok Regional에 참가하기 위해 수완나품 국제공항에 막 도착한 팀 레드시프트 일행은 눈을 믿을 수 없었다. 공항의 대형 스크린에 올해가 2562년이라고 적혀 있던 것이었다.\n",
        "\n",
        "불교 국가인 태국은 불멸기원(佛滅紀元), 즉 석가모니가 열반한 해를 기준으로 연도를 세는 불기를 사용한다. 반면, 우리나라는 서기 연도를 사용하고 있다. 불기 연도가 주어질 때 이를 서기 연도로 바꿔 주는 프로그램을 작성하시오.  \n",
        "입력 : 서기 연도를 알아보고 싶은 불기 연도 y가 주어진다. (1000 ≤ y ≤ 3000)   \n",
        "출력 : 불기 연도를 서기 연도로 변환한 결과를 출력한다.   \n",
        "\n",
        "예제 입력 : 2541   \n",
        "예제 출력 : 1998  \n",
        " "
      ],
      "metadata": {
        "id": "EGTr9VCi3V5Y"
      }
    },
    {
      "cell_type": "code",
      "source": [
        "a = int(input())\n",
        "print(a-543)"
      ],
      "metadata": {
        "colab": {
          "base_uri": "https://localhost:8080/"
        },
        "id": "Vydo2tS3zouM",
        "outputId": "6d7ffdd9-03ca-4b6c-bebd-44ce7862bb27"
      },
      "execution_count": 37,
      "outputs": [
        {
          "output_type": "stream",
          "name": "stdout",
          "text": [
            "2541\n",
            "1998\n"
          ]
        }
      ]
    },
    {
      "cell_type": "markdown",
      "source": [
        "#### 1-12\n",
        "문제번호 : 10430    \n",
        "제목 : \t나머지      \n",
        "문제 :   \n",
        "(A+B)%C는 ((A%C) + (B%C))%C 와 같을까?\n",
        "\n",
        "(A×B)%C는 ((A%C) × (B%C))%C 와 같을까?\n",
        "\n",
        "세 수 A, B, C가 주어졌을 때, 위의 네 가지 값을 구하는 프로그램을 작성하시오.  \n",
        "\n",
        "입력 : 첫째 줄에 A, B, C가 순서대로 주어진다. (2 ≤ A, B, C ≤ 10000)   \n",
        "출력 : 첫째 줄에 (A+B)%C, 둘째 줄에 ((A%C) + (B%C))%C, 셋째 줄에 (A×B)%C, 넷째 줄에 ((A%C) × (B%C))%C를 출력한다.  \n",
        "\n",
        "예제 입력 : 5 8 4  \n",
        "예제 출력 :   \n",
        "1  \n",
        "1  \n",
        "0  \n",
        "0   \n",
        " "
      ],
      "metadata": {
        "id": "5joWdpEz4G7z"
      }
    },
    {
      "cell_type": "code",
      "source": [
        "a, b, c = map(int, input().split())\n",
        "print((a+b)%c)\n",
        "print(((a%c)+(b%c))%c)\n",
        "print((a*b)%c)\n",
        "print(((a%c)*(b%c))%c)"
      ],
      "metadata": {
        "colab": {
          "base_uri": "https://localhost:8080/"
        },
        "id": "pWP7s0P23zF8",
        "outputId": "aa6886b5-6f1c-4451-ee33-257c2af74a87"
      },
      "execution_count": 38,
      "outputs": [
        {
          "output_type": "stream",
          "name": "stdout",
          "text": [
            "5 8 4\n",
            "1\n",
            "1\n",
            "0\n",
            "0\n"
          ]
        }
      ]
    },
    {
      "cell_type": "markdown",
      "source": [
        "#### 1-13\n",
        "문제번호 : 2588    \n",
        "제목 : \t곱셈      \n",
        "문제 :   \n",
        "((세 자리 수) × (세 자리 수)는 다음과 같은 과정을 통하여 이루어진다.\n",
        "\n",
        "![image.png](data:image/png;base64,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)\n",
        "\n",
        "(1)과 (2)위치에 들어갈 세 자리 자연수가 주어질 때 (3), (4), (5), (6)위치에 들어갈 값을 구하는 프로그램을 작성하시오.  \n",
        "\n",
        "입력 : 첫째 줄에 (1)의 위치에 들어갈 세 자리 자연수가, 둘째 줄에 (2)의 위치에 들어갈 세자리 자연수가 주어진다.   \n",
        "출력 : 첫째 줄부터 넷째 줄까지 차례대로 (3), (4), (5), (6)에 들어갈 값을 출력한다.  \n",
        "\n",
        "예제 입력 :  \n",
        "472  \n",
        "385  \n",
        "예제 출력 :   \n",
        "2360  \n",
        "3776  \n",
        "1416  \n",
        "181720  \n",
        " "
      ],
      "metadata": {
        "id": "VunUiBPL4_Bb"
      }
    },
    {
      "cell_type": "code",
      "source": [
        "a = int(input())\n",
        "b = int(input())\n",
        "print(a*(b%10))\n",
        "print(a*((b//10)%10))\n",
        "print(a*(b//100))\n",
        "print(a*b)"
      ],
      "metadata": {
        "colab": {
          "base_uri": "https://localhost:8080/"
        },
        "id": "zu8Lmynb41GJ",
        "outputId": "adbf0126-a47e-49b3-b777-f069284d17f0"
      },
      "execution_count": 40,
      "outputs": [
        {
          "output_type": "stream",
          "name": "stdout",
          "text": [
            "472\n",
            "385\n",
            "2360\n",
            "3776\n",
            "1416\n",
            "181720\n"
          ]
        }
      ]
    },
    {
      "cell_type": "code",
      "source": [
        ""
      ],
      "metadata": {
        "id": "2qyJUJc_6GXC"
      },
      "execution_count": null,
      "outputs": []
    }
  ]
}