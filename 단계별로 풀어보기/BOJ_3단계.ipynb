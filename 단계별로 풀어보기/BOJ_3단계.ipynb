{
  "nbformat": 4,
  "nbformat_minor": 0,
  "metadata": {
    "colab": {
      "name": "BOJ_3단계.ipynb",
      "provenance": [],
      "authorship_tag": "ABX9TyMaFntoFlidhPGx4Fdsd50u",
      "include_colab_link": true
    },
    "kernelspec": {
      "name": "python3",
      "display_name": "Python 3"
    },
    "language_info": {
      "name": "python"
    }
  },
  "cells": [
    {
      "cell_type": "markdown",
      "metadata": {
        "id": "view-in-github",
        "colab_type": "text"
      },
      "source": [
        "<a href=\"https://colab.research.google.com/github/dwonn201/BOJ-problem-solving/blob/main/%EB%8B%A8%EA%B3%84%EB%B3%84%EB%A1%9C%20%ED%92%80%EC%96%B4%EB%B3%B4%EA%B8%B0/BOJ_3%EB%8B%A8%EA%B3%84.ipynb\" target=\"_parent\"><img src=\"https://colab.research.google.com/assets/colab-badge.svg\" alt=\"Open In Colab\"/></a>"
      ]
    },
    {
      "cell_type": "markdown",
      "source": [
        "# [BOJ 단계별로 풀어보기](https://www.acmicpc.net/step)\n",
        "### 단계별로 풀어보기 3단계 : [FOR문](https://www.acmicpc.net/step/3)\n",
        "\n",
        "설명 : for문을 사용해 봅시다.\n"
      ],
      "metadata": {
        "id": "eWPUGTzMLuJV"
      }
    },
    {
      "cell_type": "markdown",
      "source": [
        "#### 3-1 \n",
        "문제번호 : \t2739  \n",
        "제목 : \t구구단  \n",
        "문제 : N을 입력받은 뒤, 구구단 N단을 출력하는 프로그램을 작성하시오. 출력 형식에 맞춰서 출력하면 된다.   \n",
        "입력 : 첫째 줄에 N이 주어진다. N은 1보다 크거나 같고, 9보다 작거나 같다.  \n",
        "출력 : 출력형식과 같게 N * 1부터 N * 9까지 출력한다.\n"
      ],
      "metadata": {
        "id": "5nUYqdPGL5gA"
      }
    },
    {
      "cell_type": "code",
      "execution_count": 2,
      "metadata": {
        "colab": {
          "base_uri": "https://localhost:8080/"
        },
        "id": "7RG8TbkhLpbA",
        "outputId": "5ebca876-8ad0-470c-b330-8808ce89d336"
      },
      "outputs": [
        {
          "output_type": "stream",
          "name": "stdout",
          "text": [
            "9\n",
            "9 * 1 = 9\n",
            "9 * 2 = 18\n",
            "9 * 3 = 27\n",
            "9 * 4 = 36\n",
            "9 * 5 = 45\n",
            "9 * 6 = 54\n",
            "9 * 7 = 63\n",
            "9 * 8 = 72\n",
            "9 * 9 = 81\n"
          ]
        }
      ],
      "source": [
        "a = int(input())\n",
        "\n",
        "for n in range(1,10):\n",
        "  print(a, \"*\", n, \"=\", a*n)"
      ]
    },
    {
      "cell_type": "markdown",
      "source": [
        "#### 3-2 \n",
        "문제번호 : \t10950  \n",
        "제목 : \t\tA+B - 3   \n",
        "문제 : 두 정수 A와 B를 입력받은 다음, A+B를 출력하는 프로그램을 작성하시오.  \n",
        "입력 : 첫째 줄에 테스트 케이스의 개수 T가 주어진다.  \n",
        "각 테스트 케이스는 한 줄로 이루어져 있으며, 각 줄에 A와 B가 주어진다. (0 < A, B < 10)  \n",
        "출력 : 각 테스트 케이스마다 A+B를 출력한다.\n"
      ],
      "metadata": {
        "id": "UW7tvqAGPFlk"
      }
    },
    {
      "cell_type": "code",
      "source": [
        "num = int(input()) # 테스트 케이스의 개수 T\n",
        "\n",
        "for n in range(num):\n",
        "  a, b = map(int, input().split())\n",
        "  print(a+b) "
      ],
      "metadata": {
        "colab": {
          "base_uri": "https://localhost:8080/"
        },
        "id": "9hRH0d5cO34x",
        "outputId": "09ba3008-626b-4326-fa77-52ef8ac6737f"
      },
      "execution_count": 3,
      "outputs": [
        {
          "output_type": "stream",
          "name": "stdout",
          "text": [
            "5\n",
            "1 1\n",
            "2\n",
            "2 3\n",
            "5\n",
            "3 4\n",
            "7\n",
            "9 8\n",
            "17\n",
            "5 2\n",
            "7\n"
          ]
        }
      ]
    },
    {
      "cell_type": "markdown",
      "source": [
        "#### 3-3 \n",
        "문제번호 : \t8393  \n",
        "제목 : \t\t합   \n",
        "문제 : n이 주어졌을 때, 1부터 n까지 합을 구하는 프로그램을 작성하시오.  \n",
        "입력 : 첫째 줄에 n (1 ≤ n ≤ 10,000)이 주어진다.  \n",
        "출력 : 1부터 n까지 합을 출력한다.\n"
      ],
      "metadata": {
        "id": "2fPu85TJQaJy"
      }
    },
    {
      "cell_type": "code",
      "source": [
        "n = int(input())\n",
        "a = 0\n",
        "for i in range(1,n+1):\n",
        "  a += i\n",
        "\n",
        "print(a)"
      ],
      "metadata": {
        "colab": {
          "base_uri": "https://localhost:8080/"
        },
        "id": "kwXGty9aQJs8",
        "outputId": "220db514-4e60-4c00-c7dd-bc882e1230df"
      },
      "execution_count": 8,
      "outputs": [
        {
          "output_type": "stream",
          "name": "stdout",
          "text": [
            "10\n",
            "55\n"
          ]
        }
      ]
    },
    {
      "cell_type": "markdown",
      "source": [
        "#### 3-4 \n",
        "문제번호 : \t15552  \n",
        "제목 : \t\t빠른 A+B   \n",
        "문제 :   \n",
        "본격적으로 for문 문제를 풀기 전에 주의해야 할 점이 있다. 입출력 방식이 느리면 여러 줄을 입력받거나 출력할 때 시간초과가 날 수 있다는 점이다.\n",
        "\n",
        "C++을 사용하고 있고 cin/cout을 사용하고자 한다면, cin.tie(NULL)과 sync_with_stdio(false)를 둘 다 적용해 주고, endl 대신 개행문자(\\n)를 쓰자. 단, 이렇게 하면 더 이상 scanf/printf/puts/getchar/putchar 등 C의 입출력 방식을 사용하면 안 된다.\n",
        "\n",
        "Java를 사용하고 있다면, Scanner와 System.out.println 대신 BufferedReader와 BufferedWriter를 사용할 수 있다. BufferedWriter.flush는 맨 마지막에 한 번만 하면 된다.\n",
        "\n",
        "Python을 사용하고 있다면, input 대신 sys.stdin.readline을 사용할 수 있다. 단, 이때는 맨 끝의 개행문자까지 같이 입력받기 때문에 문자열을 저장하고 싶을 경우 .rstrip()을 추가로 해 주는 것이 좋다.\n",
        "\n",
        "또한 입력과 출력 스트림은 별개이므로, 테스트케이스를 전부 입력받아서 저장한 뒤 전부 출력할 필요는 없다. 테스트케이스를 하나 받은 뒤 하나 출력해도 된다.\n",
        "\n",
        "자세한 설명 및 다른 언어의 경우는 이 글에 설명되어 있다.\n",
        "\n",
        "이 블로그 글에서 BOJ의 기타 여러 가지 팁을 볼 수 있다.\n",
        "\n",
        "입력 : 첫 줄에 테스트케이스의 개수 T가 주어진다. T는 최대 1,000,000이다. 다음 T줄에는 각각 두 정수 A와 B가 주어진다. A와 B는 1 이상, 1,000 이하이다.    \n",
        "출력 : 1부터 n까지 합을 출력한다.\n"
      ],
      "metadata": {
        "id": "vBLkgJQGSnfh"
      }
    },
    {
      "cell_type": "code",
      "source": [
        "import sys\n",
        "\n",
        "T =  int(input()) # Test Case\n",
        "\n",
        "for i in range(T):\n",
        "  a, b = map(int, sys.stdin.readline().split())\n",
        "  print(a+b)\n",
        "\n",
        "\n"
      ],
      "metadata": {
        "colab": {
          "base_uri": "https://localhost:8080/",
          "height": 266
        },
        "id": "HXRuHC0LSRDo",
        "outputId": "e031cbe1-603c-430f-e6c5-ee484307d7b0"
      },
      "execution_count": 10,
      "outputs": [
        {
          "name": "stdout",
          "output_type": "stream",
          "text": [
            "3\n"
          ]
        },
        {
          "output_type": "error",
          "ename": "ValueError",
          "evalue": "ignored",
          "traceback": [
            "\u001b[0;31m---------------------------------------------------------------------------\u001b[0m",
            "\u001b[0;31mValueError\u001b[0m                                Traceback (most recent call last)",
            "\u001b[0;32m<ipython-input-10-aa3eac56cd06>\u001b[0m in \u001b[0;36m<module>\u001b[0;34m()\u001b[0m\n\u001b[1;32m      3\u001b[0m \u001b[0mT\u001b[0m \u001b[0;34m=\u001b[0m  \u001b[0mint\u001b[0m\u001b[0;34m(\u001b[0m\u001b[0minput\u001b[0m\u001b[0;34m(\u001b[0m\u001b[0;34m)\u001b[0m\u001b[0;34m)\u001b[0m\u001b[0;34m\u001b[0m\u001b[0;34m\u001b[0m\u001b[0m\n\u001b[1;32m      4\u001b[0m \u001b[0;32mfor\u001b[0m \u001b[0mi\u001b[0m \u001b[0;32min\u001b[0m \u001b[0mrange\u001b[0m\u001b[0;34m(\u001b[0m\u001b[0mT\u001b[0m\u001b[0;34m)\u001b[0m\u001b[0;34m:\u001b[0m\u001b[0;34m\u001b[0m\u001b[0;34m\u001b[0m\u001b[0m\n\u001b[0;32m----> 5\u001b[0;31m   \u001b[0ma\u001b[0m\u001b[0;34m,\u001b[0m \u001b[0mb\u001b[0m \u001b[0;34m=\u001b[0m \u001b[0mmap\u001b[0m\u001b[0;34m(\u001b[0m\u001b[0mint\u001b[0m\u001b[0;34m,\u001b[0m \u001b[0msys\u001b[0m\u001b[0;34m.\u001b[0m\u001b[0mstdin\u001b[0m\u001b[0;34m.\u001b[0m\u001b[0mreadline\u001b[0m\u001b[0;34m(\u001b[0m\u001b[0;34m)\u001b[0m\u001b[0;34m.\u001b[0m\u001b[0msplit\u001b[0m\u001b[0;34m(\u001b[0m\u001b[0;34m)\u001b[0m\u001b[0;34m)\u001b[0m\u001b[0;34m\u001b[0m\u001b[0;34m\u001b[0m\u001b[0m\n\u001b[0m\u001b[1;32m      6\u001b[0m   \u001b[0mprint\u001b[0m\u001b[0;34m(\u001b[0m\u001b[0ma\u001b[0m\u001b[0;34m+\u001b[0m\u001b[0mb\u001b[0m\u001b[0;34m)\u001b[0m\u001b[0;34m\u001b[0m\u001b[0;34m\u001b[0m\u001b[0m\n\u001b[1;32m      7\u001b[0m \u001b[0;34m\u001b[0m\u001b[0m\n",
            "\u001b[0;31mValueError\u001b[0m: not enough values to unpack (expected 2, got 0)"
          ]
        }
      ]
    },
    {
      "cell_type": "markdown",
      "source": [
        "#### 3-5 \n",
        "문제번호 : \t2741  \n",
        "제목 : \t\tN 찍기   \n",
        "문제 :자연수 N이 주어졌을 때, 1부터 N까지 한 줄에 하나씩 출력하는 프로그램을 작성하시오.  \n",
        "입력 : 첫째 줄에 100,000보다 작거나 같은 자연수 N이 주어진다.  \n",
        "출력 : 첫째 줄부터 N번째 줄 까지 차례대로 출력한다.\n"
      ],
      "metadata": {
        "id": "RD2giECIUMZd"
      }
    },
    {
      "cell_type": "code",
      "source": [
        "T = int(input())\n",
        "\n",
        "for i in range(1,T+1):\n",
        "  print(i)"
      ],
      "metadata": {
        "colab": {
          "base_uri": "https://localhost:8080/"
        },
        "id": "ZiWs1x-FTj4_",
        "outputId": "891c7e16-9c97-43ac-df90-646c80cd728a"
      },
      "execution_count": 12,
      "outputs": [
        {
          "output_type": "stream",
          "name": "stdout",
          "text": [
            "5\n",
            "1\n",
            "2\n",
            "3\n",
            "4\n",
            "5\n"
          ]
        }
      ]
    },
    {
      "cell_type": "markdown",
      "source": [
        "#### 3-6 \n",
        "문제번호 : \t2742  \n",
        "제목 : \t\t기찍 N    \n",
        "문제 :자연수 N이 주어졌을 때, N부터 1까지 한 줄에 하나씩 출력하는 프로그램을 작성하시오.  \n",
        "입력 : 첫째 줄에 100,000보다 작거나 같은 자연수 N이 주어진다.  \n",
        "출력 : 첫째 줄부터 N번째 줄 까지 차례대로 출력한다.\n"
      ],
      "metadata": {
        "id": "b4Zrv6VOUs2Q"
      }
    },
    {
      "cell_type": "code",
      "source": [
        "T = int(input())\n",
        "\n",
        "for i in range(T):\n",
        "  print(T-i)"
      ],
      "metadata": {
        "colab": {
          "base_uri": "https://localhost:8080/"
        },
        "id": "MjAt-HeTUfKi",
        "outputId": "7861c2ee-5007-4541-b48a-b46e7749b556"
      },
      "execution_count": 14,
      "outputs": [
        {
          "output_type": "stream",
          "name": "stdout",
          "text": [
            "5\n",
            "5\n",
            "4\n",
            "3\n",
            "2\n",
            "1\n"
          ]
        }
      ]
    },
    {
      "cell_type": "markdown",
      "source": [
        "#### 3-7 \n",
        "문제번호 : \t11021  \n",
        "제목 : \t\tA+B - 7     \n",
        "문제 : 두 정수 A와 B를 입력받은 다음, A+B를 출력하는 프로그램을 작성하시오.  \n",
        "입력 :   \n",
        "첫째 줄에 테스트 케이스의 개수 T가 주어진다.  \n",
        "각 테스트 케이스는 한 줄로 이루어져 있으며, 각 줄에 A와 B가 주어진다. (0 < A, B < 10)   \n",
        "출력 : 각 테스트 케이스마다 \"Case #x: \"를 출력한 다음, A+B를 출력한다. 테스트 케이스 번호는 1부터 시작한다.\n"
      ],
      "metadata": {
        "id": "mJVHe4YLVPe1"
      }
    },
    {
      "cell_type": "code",
      "source": [
        "import sys\n",
        "\n",
        "T = int(input()) # Test Case\n",
        "\n",
        "for i in range(T):\n",
        "  #a, b = map(int,input().split())\n",
        "  a, b = map(int, sys.stdin.readline().split())\n",
        "  x = i+1\n",
        "  print(\"Case #\"+str(x)+\":\", a+b)"
      ],
      "metadata": {
        "colab": {
          "base_uri": "https://localhost:8080/"
        },
        "id": "MR_0qtdNVPLU",
        "outputId": "bb7f1679-28d3-4475-d565-b3dc9517a5b4"
      },
      "execution_count": 18,
      "outputs": [
        {
          "output_type": "stream",
          "name": "stdout",
          "text": [
            "3\n",
            "1 1\n",
            "Case #1: 2\n",
            "2 2\n",
            "Case #2: 4\n",
            "3 3\n",
            "Case #3: 6\n"
          ]
        }
      ]
    },
    {
      "cell_type": "markdown",
      "source": [
        "#### 3-8 \n",
        "문제번호 : \t11022  \n",
        "제목 : \t\tA+B - 8     \n",
        "문제 : 두 정수 A와 B를 입력받은 다음, A+B를 출력하는 프로그램을 작성하시오.  \n",
        "입력 :   \n",
        "첫째 줄에 테스트 케이스의 개수 T가 주어진다.  \n",
        "각 테스트 케이스는 한 줄로 이루어져 있으며, 각 줄에 A와 B가 주어진다. (0 < A, B < 10)   \n",
        "출력 :   \n",
        "각 테스트 케이스마다 \"Case #x: A + B = C\" 형식으로 출력한다.   \n",
        "x는 테스트 케이스 번호이고 1부터 시작하며, C는 A+B이다.\n"
      ],
      "metadata": {
        "id": "5byshfLtXJeI"
      }
    },
    {
      "cell_type": "code",
      "source": [
        "import sys\n",
        "\n",
        "T = int(input()) # Test Case\n",
        "\n",
        "for i in range(T):\n",
        "  #a, b = map(int,input().split())\n",
        "  a, b = map(int, sys.stdin.readline().split())\n",
        "  x = i+1\n",
        "  print(\"Case #\"+str(x)+\":\", a, \"+\", b, \"=\", a+b)"
      ],
      "metadata": {
        "colab": {
          "base_uri": "https://localhost:8080/"
        },
        "id": "pKSV-ajZU6-g",
        "outputId": "146f79c4-ef37-43e2-ed48-e4577afbc48b"
      },
      "execution_count": 19,
      "outputs": [
        {
          "output_type": "stream",
          "name": "stdout",
          "text": [
            "3\n",
            "1 1\n",
            "Case #1: 1 + 1 = 2\n",
            "2 3\n",
            "Case #2: 2 + 3 = 5\n",
            "5 2\n",
            "Case #3: 5 + 2 = 7\n"
          ]
        }
      ]
    },
    {
      "cell_type": "markdown",
      "source": [
        "#### 3-9 \n",
        "문제번호 : \t2438  \n",
        "제목 : \t\t별 찍기 - 1     \n",
        "문제 : 첫째 줄에는 별 1개, 둘째 줄에는 별 2개, N번째 줄에는 별 N개를 찍는 문제  \n",
        "입력 :   \n",
        "첫째 줄에 N(1 ≤ N ≤ 100)이 주어진다.  \n",
        "출력 :   \n",
        "첫째 줄부터 N번째 줄까지 차례대로 별을 출력한다.  "
      ],
      "metadata": {
        "id": "76U9bcbCX1DT"
      }
    },
    {
      "cell_type": "code",
      "source": [
        "T = int(input())\n",
        "\n",
        "for i in range(1, T+1):\n",
        "  print(\"*\"*i)"
      ],
      "metadata": {
        "colab": {
          "base_uri": "https://localhost:8080/"
        },
        "id": "hlwxVcQKXoxZ",
        "outputId": "6f20c673-705e-46af-f1da-a5db7e46f892"
      },
      "execution_count": 21,
      "outputs": [
        {
          "output_type": "stream",
          "name": "stdout",
          "text": [
            "3\n",
            "*\n",
            "**\n",
            "***\n"
          ]
        }
      ]
    },
    {
      "cell_type": "markdown",
      "source": [
        "#### 3-10 \n",
        "문제번호 : \t2439  \n",
        "제목 : \t\t별 찍기 - 2     \n",
        "문제 : 첫째 줄에는 별 1개, 둘째 줄에는 별 2개, N번째 줄에는 별 N개를 찍는 문제  \n",
        "하지만, 오른쪽을 기준으로 정렬한 별(예제 참고)을 출력하시오.  \n",
        "\n",
        "입력 :   \n",
        "첫째 줄에 N(1 ≤ N ≤ 100)이 주어진다.  \n",
        "출력 :   \n",
        "첫째 줄부터 N번째 줄까지 차례대로 별을 출력한다.  \n",
        "\n",
        "예제 입력 \n",
        "5\n",
        "예제 출력\n",
        "```\n",
        "    *\n",
        "   **\n",
        "  ***\n",
        " ****\n",
        "*****\n",
        "```"
      ],
      "metadata": {
        "id": "3LvNxRdWYYw6"
      }
    },
    {
      "cell_type": "code",
      "source": [
        "T = int(input())\n",
        "\n",
        "for i in range(1, T+1):\n",
        "  print(\" \"*(T-i)+ \"*\"*i)\n"
      ],
      "metadata": {
        "colab": {
          "base_uri": "https://localhost:8080/"
        },
        "id": "AK-IRAweYNjY",
        "outputId": "c6d5764c-9fbd-453a-fce7-fa44ec8bec91"
      },
      "execution_count": 27,
      "outputs": [
        {
          "output_type": "stream",
          "name": "stdout",
          "text": [
            "5\n",
            ",,,,*\n",
            ",,,**\n",
            ",,***\n",
            ",****\n",
            "*****\n"
          ]
        }
      ]
    },
    {
      "cell_type": "markdown",
      "source": [
        "#### 3-11 \n",
        "문제번호 : \t10871  \n",
        "제목 : \tX보다 작은 수     \n",
        "문제 :  \n",
        "정수 N개로 이루어진 수열 A와 정수 X가 주어진다.   \n",
        "이때, A에서 X보다 작은 수를 모두 출력하는 프로그램을 작성하시오.  \n",
        "\n",
        "입력 :   \n",
        "첫째 줄에 N과 X가 주어진다. (1 ≤ N, X ≤ 10,000)  \n",
        "둘째 줄에 수열 A를 이루는 정수 N개가 주어진다. 주어지는 정수는 모두 1보다 크거나 같고, 10,000보다 작거나 같은 정수이다.  \n",
        "\n",
        "출력 :   \n",
        "X보다 작은 수를 입력받은 순서대로 공백으로 구분해 출력한다.   \n",
        "X보다 작은 수는 적어도 하나 존재한다.  \n",
        "\n"
      ],
      "metadata": {
        "id": "qKeD_dcFZ1nD"
      }
    },
    {
      "cell_type": "code",
      "source": [
        "N, X = map(int, input().split())\n",
        "A = list(map(int, input().split()))\n",
        "n = []\n",
        "\n",
        "for i in range(N):\n",
        "  if A[i] < X:\n",
        "    #print(A[i])\n",
        "    n.append(str(A[i]))\n",
        "print(\" \".join(n))\n",
        "    "
      ],
      "metadata": {
        "colab": {
          "base_uri": "https://localhost:8080/"
        },
        "id": "MJKcITlnY69U",
        "outputId": "88498c74-b4ff-4e96-e493-fdd982953223"
      },
      "execution_count": 40,
      "outputs": [
        {
          "output_type": "stream",
          "name": "stdout",
          "text": [
            "10 5\n",
            "1 10 4 9 2 3 8 5 7 6\n",
            "1\n",
            "4\n",
            "2\n",
            "3\n",
            "1 4 2 3\n"
          ]
        }
      ]
    },
    {
      "cell_type": "code",
      "source": [
        ""
      ],
      "metadata": {
        "id": "Hr6LKL3FaxJO"
      },
      "execution_count": null,
      "outputs": []
    }
  ]
}