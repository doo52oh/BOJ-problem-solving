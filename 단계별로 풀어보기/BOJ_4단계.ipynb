{
  "nbformat": 4,
  "nbformat_minor": 0,
  "metadata": {
    "colab": {
      "name": "BOJ_4단계.ipynb",
      "provenance": [],
      "authorship_tag": "ABX9TyNoaKf3SIQuXiMwNln5AMPS",
      "include_colab_link": true
    },
    "kernelspec": {
      "name": "python3",
      "display_name": "Python 3"
    },
    "language_info": {
      "name": "python"
    }
  },
  "cells": [
    {
      "cell_type": "markdown",
      "metadata": {
        "id": "view-in-github",
        "colab_type": "text"
      },
      "source": [
        "<a href=\"https://colab.research.google.com/github/dwonn201/BOJ-problem-solving/blob/main/%EB%8B%A8%EA%B3%84%EB%B3%84%EB%A1%9C%20%ED%92%80%EC%96%B4%EB%B3%B4%EA%B8%B0/BOJ_4%EB%8B%A8%EA%B3%84.ipynb\" target=\"_parent\"><img src=\"https://colab.research.google.com/assets/colab-badge.svg\" alt=\"Open In Colab\"/></a>"
      ]
    },
    {
      "cell_type": "markdown",
      "source": [
        "# [BOJ 단계별로 풀어보기](https://www.acmicpc.net/step)\n",
        "### 단계별로 풀어보기 4단계 : [while문](https://www.acmicpc.net/step/2)\n",
        "\n",
        "설명 : while문을 사용해 봅시다.\n"
      ],
      "metadata": {
        "id": "NExEj-qndyE0"
      }
    },
    {
      "cell_type": "markdown",
      "source": [
        "#### 4-1 \n",
        "문제번호 : \t10952  \n",
        "제목 : \t\tA+B - 5  \n",
        "문제 :   \n",
        "두 정수 A와 B를 입력받은 다음, A+B를 출력하는 프로그램을 작성하시오.   \n",
        "\n",
        "입력 :   \n",
        "입력은 여러 개의 테스트 케이스로 이루어져 있다.  \n",
        "각 테스트 케이스는 한 줄로 이루어져 있으며, 각 줄에 A와 B가 주어진다. (0 < A, B < 10)  \n",
        "입력의 마지막에는 0 두 개가 들어온다.  \n",
        "\n",
        "출력 :   \n",
        "각 테스트 케이스마다 A+B를 출력한다.\n"
      ],
      "metadata": {
        "id": "7RLdUgeid-Kf"
      }
    },
    {
      "cell_type": "code",
      "execution_count": 2,
      "metadata": {
        "colab": {
          "base_uri": "https://localhost:8080/"
        },
        "id": "vFAZveI7dvfY",
        "outputId": "6aeb13e7-7f59-4131-c2a9-4742d19dd565"
      },
      "outputs": [
        {
          "name": "stdout",
          "output_type": "stream",
          "text": [
            "1 1\n",
            "2\n",
            "2 3\n",
            "5\n",
            "5 2\n",
            "7\n",
            "0 0\n"
          ]
        }
      ],
      "source": [
        "while 1:\n",
        "    a, b = list(map(int, input().split()))\n",
        "    if a == 0 and b == 0:\n",
        "        break\n",
        "    else:\n",
        "      print(a+b)"
      ]
    },
    {
      "cell_type": "markdown",
      "source": [
        "#### 4-2 \n",
        "문제번호 : \t10951  \n",
        "제목 : \t\tA+B - 4  \n",
        "문제 :   \n",
        "두 정수 A와 B를 입력받은 다음, A+B를 출력하는 프로그램을 작성하시오.    \n",
        "\n",
        "입력 :   \n",
        "입력은 여러 개의 테스트 케이스로 이루어져 있다.  \n",
        "각 테스트 케이스는 한 줄로 이루어져 있으며, 각 줄에 A와 B가 주어진다. (0 < A, B < 10)  \n",
        "\n",
        "출력 :   \n",
        "각 테스트 케이스마다 A+B를 출력한다.\n"
      ],
      "metadata": {
        "id": "6PgemKiJfRS-"
      }
    },
    {
      "cell_type": "code",
      "source": [
        "while 1:\n",
        "  try:\n",
        "    a, b = map(int, input().split())\n",
        "    print(a+b)\n",
        "  except:\n",
        "    break"
      ],
      "metadata": {
        "colab": {
          "base_uri": "https://localhost:8080/"
        },
        "id": "mUsK2ehseieL",
        "outputId": "01edc05e-c49e-4a2b-f817-a1d13f5f6185"
      },
      "execution_count": 9,
      "outputs": [
        {
          "name": "stdout",
          "output_type": "stream",
          "text": [
            "1 1\n",
            "2\n",
            " \n"
          ]
        }
      ]
    },
    {
      "cell_type": "markdown",
      "source": [
        "#### 4-3 \n",
        "문제번호 : \t1110  \n",
        "제목 : \t더하기 사이클   \n",
        "문제 :   \n",
        "보다 크거나 같고, 99보다 작거나 같은 정수가 주어질 때 다음과 같은 연산을 할 수 있다. 먼저 주어진 수가 10보다 작다면 앞에 0을 붙여 두 자리 수로 만들고, 각 자리의 숫자를 더한다. 그 다음, 주어진 수의 가장 오른쪽 자리 수와 앞에서 구한 합의 가장 오른쪽 자리 수를 이어 붙이면 새로운 수를 만들 수 있다. 다음 예를 보자.\n",
        "\n",
        "26부터 시작한다. 2+6 = 8이다. 새로운 수는 68이다. 6+8 = 14이다. 새로운 수는 84이다. 8+4 = 12이다. 새로운 수는 42이다. 4+2 = 6이다. 새로운 수는 26이다.\n",
        "\n",
        "위의 예는 4번만에 원래 수로 돌아올 수 있다. 따라서 26의 사이클의 길이는 4이다.\n",
        "\n",
        "N이 주어졌을 때, N의 사이클의 길이를 구하는 프로그램을 작성하시오.    \n",
        "\n",
        "입력 :   \n",
        "첫째 줄에 N이 주어진다. N은 0보다 크거나 같고, 99보다 작거나 같은 정수이다.  \n",
        "\n",
        "출력 :   \n",
        "첫째 줄에 N의 사이클 길이를 출력한다.  \n"
      ],
      "metadata": {
        "id": "-AejKT-6mgjG"
      }
    },
    {
      "cell_type": "code",
      "source": [
        "A = int(input())\n",
        "a = A\n",
        "i = 1\n",
        "while 1:\n",
        "  # a가 10보다 작을경우 (한자리수) -> 앞쪽에 0을 붙여 두자리수를 만들고 각자리수 합. ex) 8 -> 08 -> 0+8 = 8\n",
        "  if a < 10: \n",
        "    a = a*10 + a  # 새로운수\n",
        "    if a == A:\n",
        "      print(i)\n",
        "      break\n",
        "    else:\n",
        "      i += 1\n",
        "  # a가 10보다 클경우\n",
        "  else:\n",
        "    a = (a%10*10) + ((a//10 + a%10)%10) # 2자리수 오른쪽 자리 수 + 각자리수의 합\n",
        "    if a == A:\n",
        "      print(i)\n",
        "      break\n",
        "    else:\n",
        "      i += 1\n",
        "    \n",
        "\n",
        "\n"
      ],
      "metadata": {
        "colab": {
          "base_uri": "https://localhost:8080/"
        },
        "id": "_CXfZpDdkn4m",
        "outputId": "0d14635d-efa0-4c47-e394-567bac397335"
      },
      "execution_count": 26,
      "outputs": [
        {
          "output_type": "stream",
          "name": "stdout",
          "text": [
            "71\n",
            "12\n"
          ]
        }
      ]
    },
    {
      "cell_type": "code",
      "source": [
        ""
      ],
      "metadata": {
        "id": "kD_W8ptstuQ1"
      },
      "execution_count": null,
      "outputs": []
    }
  ]
}