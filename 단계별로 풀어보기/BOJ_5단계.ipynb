{
  "nbformat": 4,
  "nbformat_minor": 0,
  "metadata": {
    "colab": {
      "name": "BOJ_5단계.ipynb",
      "provenance": [],
      "authorship_tag": "ABX9TyPBfUOHYXWkavQ+A6aN88Oq",
      "include_colab_link": true
    },
    "kernelspec": {
      "name": "python3",
      "display_name": "Python 3"
    },
    "language_info": {
      "name": "python"
    }
  },
  "cells": [
    {
      "cell_type": "markdown",
      "metadata": {
        "id": "view-in-github",
        "colab_type": "text"
      },
      "source": [
        "<a href=\"https://colab.research.google.com/github/dwonn201/BOJ-problem-solving/blob/main/%EB%8B%A8%EA%B3%84%EB%B3%84%EB%A1%9C%20%ED%92%80%EC%96%B4%EB%B3%B4%EA%B8%B0/BOJ_5%EB%8B%A8%EA%B3%84.ipynb\" target=\"_parent\"><img src=\"https://colab.research.google.com/assets/colab-badge.svg\" alt=\"Open In Colab\"/></a>"
      ]
    },
    {
      "cell_type": "markdown",
      "source": [
        "# [BOJ 단계별로 풀어보기](https://www.acmicpc.net/step)\n",
        "### 단계별로 풀어보기 5단계 : [1차원 배열](https://www.acmicpc.net/step/6)\n",
        "\n",
        "설명 : \t배열을 사용해 봅시다.\n"
      ],
      "metadata": {
        "id": "7W1AFB6RwGww"
      }
    },
    {
      "cell_type": "markdown",
      "source": [
        "#### 5-1 \n",
        "문제번호 : \t\t10818  \n",
        "제목 : \t최소, 최대  \n",
        "문제 :   \n",
        "N개의 정수가 주어진다. 이때, 최솟값과 최댓값을 구하는 프로그램을 작성하시오.    \n",
        "\n",
        "입력 :   \n",
        "첫째 줄에 정수의 개수 N (1 ≤ N ≤ 1,000,000)이 주어진다. 둘째 줄에는 N개의 정수를 공백으로 구분해서 주어진다. 모든 정수는 -1,000,000보다 크거나 같고, 1,000,000보다 작거나 같은 정수이다.  \n",
        "\n",
        "출력 :   \n",
        "첫째 줄에 주어진 정수 N개의 최솟값과 최댓값을 공백으로 구분해 출력한다.\n",
        "\n"
      ],
      "metadata": {
        "id": "1bt5V2hmwWAq"
      }
    },
    {
      "cell_type": "code",
      "execution_count": 1,
      "metadata": {
        "colab": {
          "base_uri": "https://localhost:8080/"
        },
        "id": "tZwIlFGIvqDB",
        "outputId": "a7fa19ea-d739-4159-92e8-c85b527d4002"
      },
      "outputs": [
        {
          "output_type": "stream",
          "name": "stdout",
          "text": [
            "5\n",
            "20 10 35 30 7\n",
            "7 35\n"
          ]
        }
      ],
      "source": [
        "n = int(input())\n",
        "\n",
        "N = list(map(int, input().split()))\n",
        "\n",
        "print(min(N), max(N))\n",
        "\n"
      ]
    },
    {
      "cell_type": "markdown",
      "source": [
        "#### 5-2 \n",
        "문제번호 : \t\t2562  \n",
        "제목 : \t\t최댓값 \n",
        "문제 :   \n",
        "9개의 서로 다른 자연수가 주어질 때, 이들 중 최댓값을 찾고 그 최댓값이 몇 번째 수인지를 구하는 프로그램을 작성하시오.  \n",
        "예를 들어, 서로 다른 9개의 자연수  \n",
        "3, 29, 38, 12, 57, 74, 40, 85, 61  \n",
        "이 주어지면, 이들 중 최댓값은 85이고, 이 값은 8번째 수이다.    \n",
        "\n",
        "입력 :   \n",
        "첫째 줄부터 아홉 번째 줄까지 한 줄에 하나의 자연수가 주어진다. 주어지는 자연수는 100 보다 작다. \n",
        "\n",
        "출력 :   \n",
        "첫째 줄에 최댓값을 출력하고, 둘째 줄에 최댓값이 몇 번째 수인지를 출력한다.  \n",
        "\n"
      ],
      "metadata": {
        "id": "XqqWNiyPzjDV"
      }
    },
    {
      "cell_type": "code",
      "source": [
        "n = []\n",
        "for i in range(9):\n",
        "  a = int(input())\n",
        "  n.append(a)\n",
        "\n",
        "for i in range(9):\n",
        "  if n[i] == max(n):\n",
        "    print(n[i])\n",
        "    print(i+1)"
      ],
      "metadata": {
        "colab": {
          "base_uri": "https://localhost:8080/"
        },
        "id": "6F9QdM1UxN8p",
        "outputId": "cb892e52-5838-4a86-8ae8-4d949027e120"
      },
      "execution_count": 3,
      "outputs": [
        {
          "output_type": "stream",
          "name": "stdout",
          "text": [
            "3\n",
            "29\n",
            "38\n",
            "12\n",
            "57\n",
            "74\n",
            "40\n",
            "85\n",
            "61\n",
            "85\n",
            "8\n"
          ]
        }
      ]
    },
    {
      "cell_type": "markdown",
      "source": [
        "#### 5-3 \n",
        "문제번호 : \t\t2577  \n",
        "제목 : \t\t숫자의 개수 \n",
        "문제 :   \n",
        "세 개의 자연수 A, B, C가 주어질 때 A × B × C를 계산한 결과에 0부터 9까지 각각의 숫자가 몇 번씩 쓰였는지를 구하는 프로그램을 작성하시오.  \n",
        "예를 들어 A = 150, B = 266, C = 427 이라면 A × B × C = 150 × 266 × 427 = 17037300 이 되고, 계산한 결과 17037300 에는 0이 3번, 1이 1번, 3이 2번, 7이 2번 쓰였다. \n",
        "\n",
        "입력 :   \n",
        "첫째 줄에 A, 둘째 줄에 B, 셋째 줄에 C가 주어진다. A, B, C는 모두 100보다 크거나 같고, 1,000보다 작은 자연수이다.  \n",
        "\n",
        "출력 :   \n",
        "첫째 줄에는 A × B × C의 결과에 0 이 몇 번 쓰였는지 출력한다. 마찬가지로 둘째 줄부터 열 번째 줄까지 A × B × C의 결과에 1부터 9까지의 숫자가 각각 몇 번 쓰였는지 차례로 한 줄에 하나씩 출력한다.    \n",
        "\n"
      ],
      "metadata": {
        "id": "eYZyHzDP05hK"
      }
    },
    {
      "cell_type": "code",
      "source": [
        "a = int(input())\n",
        "b = int(input())\n",
        "c = int(input())\n",
        "d = a*b*c\n",
        "e = list(str(d))\n",
        "\n",
        "print(e.count('0'))\n",
        "print(e.count('1'))\n",
        "print(e.count('2'))\n",
        "print(e.count('3'))\n",
        "print(e.count('4'))\n",
        "print(e.count('5'))\n",
        "print(e.count('6'))\n",
        "print(e.count('7'))\n",
        "print(e.count('8'))\n",
        "print(e.count('9'))\n"
      ],
      "metadata": {
        "colab": {
          "base_uri": "https://localhost:8080/"
        },
        "id": "0vUY_54r0i7i",
        "outputId": "816d6d0d-a85b-4115-81b2-4a11d6d7c33b"
      },
      "execution_count": 8,
      "outputs": [
        {
          "output_type": "stream",
          "name": "stdout",
          "text": [
            "150\n",
            "266\n",
            "427\n",
            "3\n",
            "1\n",
            "0\n",
            "2\n",
            "0\n",
            "0\n",
            "0\n",
            "2\n",
            "0\n",
            "0\n"
          ]
        }
      ]
    },
    {
      "cell_type": "markdown",
      "source": [
        "#### 5-4\n",
        "문제번호 : \t\t3052  \n",
        "제목 : \t\t나머지 \n",
        "문제 :   \n",
        "두 자연수 A와 B가 있을 때, A%B는 A를 B로 나눈 나머지 이다. 예를 들어, 7, 14, 27, 38을 3으로 나눈 나머지는 1, 2, 0, 2이다.   \n",
        "수 10개를 입력받은 뒤, 이를 42로 나눈 나머지를 구한다. 그 다음 서로 다른 값이 몇 개 있는지 출력하는 프로그램을 작성하시오.  \n",
        "\n",
        "입력 :   \n",
        "첫째 줄부터 열번째 줄 까지 숫자가 한 줄에 하나씩 주어진다. 이 숫자는 1,000보다 작거나 같고, 음이 아닌 정수이다.  \n",
        "\n",
        "출력 :   \n",
        "첫째 줄에, 42로 나누었을 때, 서로 다른 나머지가 몇 개 있는지 출력한다.  \n",
        "\n"
      ],
      "metadata": {
        "id": "EyoxZB3e3TF1"
      }
    },
    {
      "cell_type": "code",
      "source": [
        "n = []\n",
        "x = []\n",
        "for i in range(10):\n",
        "  a = int(input())\n",
        "  n.append(a)\n",
        "\n",
        "for i in range(10):\n",
        "  b = n[i] % 42\n",
        "  x.append(b)\n",
        "\n",
        "#print(n)\n",
        "#print(x)\n",
        "print(len(set(x)))\n"
      ],
      "metadata": {
        "colab": {
          "base_uri": "https://localhost:8080/"
        },
        "id": "4xgp0Rnd1nip",
        "outputId": "3231dd29-4db1-4d90-810c-5b6c6bd7ae17"
      },
      "execution_count": 15,
      "outputs": [
        {
          "output_type": "stream",
          "name": "stdout",
          "text": [
            "39\n",
            "40\n",
            "41\n",
            "42\n",
            "43\n",
            "44\n",
            "82\n",
            "83\n",
            "84\n",
            "85\n",
            "[39, 40, 41, 42, 43, 44, 82, 83, 84, 85]\n",
            "[39, 40, 41, 0, 1, 2, 40, 41, 0, 1]\n",
            "6\n"
          ]
        }
      ]
    },
    {
      "cell_type": "markdown",
      "source": [
        "#### 5-5\n",
        "문제번호 : \t\t1546  \n",
        "제목 : \t\t평균 \n",
        "문제 :   \n",
        "세준이는 기말고사를 망쳤다. 세준이는 점수를 조작해서 집에 가져가기로 했다. 일단 세준이는 자기 점수 중에 최댓값을 골랐다. 이 값을 M이라고 한다. 그리고 나서 모든 점수를 점수/M*100으로 고쳤다.  \n",
        "예를 들어, 세준이의 최고점이 70이고, 수학점수가 50이었으면 수학점수는 50/70*100이 되어 71.43점이 된다.  \n",
        "세준이의 성적을 위의 방법대로 새로 계산했을 때, 새로운 평균을 구하는 프로그램을 작성하시오.\n",
        "\n",
        "입력 :   \n",
        "첫째 줄에 시험 본 과목의 개수 N이 주어진다. 이 값은 1000보다 작거나 같다. 둘째 줄에 세준이의 현재 성적이 주어진다. 이 값은 100보다 작거나 같은 음이 아닌 정수이고, 적어도 하나의 값은 0보다 크다. \n",
        "\n",
        "출력 :   \n",
        "첫째 줄에 새로운 평균을 출력한다. 실제 정답과 출력값의 절대오차 또는 상대오차가 10-2 이하이면 정답이다. \n",
        "\n"
      ],
      "metadata": {
        "id": "J5nBvHFj5hdl"
      }
    },
    {
      "cell_type": "code",
      "source": [
        "n = int(input())\n",
        "g = list(map(int, input().split()))\n",
        "\n",
        "x = []\n",
        "for i in range(n):\n",
        "  new_g = g[i] / max(g) * 100\n",
        "  x.append(new_g)\n",
        "\n",
        "print(sum(x)/n)\n",
        "\n"
      ],
      "metadata": {
        "colab": {
          "base_uri": "https://localhost:8080/"
        },
        "id": "dXBy_6m11pWF",
        "outputId": "cb9de2cc-e4f6-453f-e97f-798f66d9fd5b"
      },
      "execution_count": 24,
      "outputs": [
        {
          "output_type": "stream",
          "name": "stdout",
          "text": [
            "3\n",
            "10 20 30\n",
            "66.66666666666667\n"
          ]
        }
      ]
    },
    {
      "cell_type": "markdown",
      "source": [
        "#### 5-6\n",
        "문제번호 : \t\t8958  \n",
        "제목 : \t\tOX퀴즈 \n",
        "문제 :   \n",
        "\"OOXXOXXOOO\"와 같은 OX퀴즈의 결과가 있다. O는 문제를 맞은 것이고, X는 문제를 틀린 것이다. 문제를 맞은 경우 그 문제의 점수는 그 문제까지 연속된 O의 개수가 된다. 예를 들어, 10번 문제의 점수는 3이 된다.\n",
        "\n",
        "\"OOXXOXXOOO\"의 점수는 1+2+0+0+1+0+0+1+2+3 = 10점이다.\n",
        "\n",
        "OX퀴즈의 결과가 주어졌을 때, 점수를 구하는 프로그램을 작성하시오.\n",
        "\n",
        "입력 :   \n",
        "첫째 줄에 테스트 케이스의 개수가 주어진다. 각 테스트 케이스는 한 줄로 이루어져 있고, 길이가 0보다 크고 80보다 작은 문자열이 주어진다. 문자열은 O와 X만으로 이루어져 있다.\n",
        "\n",
        "출력 :   \n",
        "각 테스트 케이스마다 점수를 출력한다.\n",
        "\n"
      ],
      "metadata": {
        "id": "nl8d5o_e629c"
      }
    },
    {
      "cell_type": "code",
      "source": [
        "n = int(input())\n",
        "c = [0]*n\n",
        "#print(c)\n",
        "\n",
        "for i in range(n):\n",
        "    c[i] = input()\n",
        "    score = 0   \n",
        "    cnt = 1 \n",
        "    for j in c[i]:\n",
        "        if j == 'O':\n",
        "            score += cnt\n",
        "            cnt += 1\n",
        "        else :\n",
        "            cnt = 1\n",
        "    print(score)"
      ],
      "metadata": {
        "colab": {
          "base_uri": "https://localhost:8080/"
        },
        "id": "QzmsbbaW4iXc",
        "outputId": "3a935305-3efb-4747-a4bb-70c743d0c57a"
      },
      "execution_count": 5,
      "outputs": [
        {
          "output_type": "stream",
          "name": "stdout",
          "text": [
            "1\n",
            "OOXXOXXOOO\n",
            "10\n"
          ]
        }
      ]
    },
    {
      "cell_type": "markdown",
      "source": [
        "#### 5-7\n",
        "문제번호 : \t\t8958  \n",
        "제목 : \t\t평균은 넘겠지 \n",
        "문제 :   \n",
        "대학생 새내기들의 90%는 자신이 반에서 평균은 넘는다고 생각한다. 당신은 그들에게 슬픈 진실을 알려줘야 한다.\n",
        "\n",
        "\n",
        "입력 :   \n",
        "첫째 줄에는 테스트 케이스의 개수 C가 주어진다.  \n",
        "둘째 줄부터 각 테스트 케이스마다 학생의 수 N(1 ≤ N ≤ 1000, N은 정수)이 첫 수로 주어지고, 이어서 N명의 점수가 주어진다. 점수는 0보다 크거나 같고, 100보다 작거나 같은 정수이다.\n",
        "\n",
        "출력 :   \n",
        "각 케이스마다 한 줄씩 평균을 넘는 학생들의 비율을 반올림하여 소수점 셋째 자리까지 출력한다.  \n"
      ],
      "metadata": {
        "id": "Ci3xChN5y9KC"
      }
    },
    {
      "cell_type": "code",
      "source": [
        "t = int(input())\n",
        "\n",
        "for i in range(t):\n",
        "  s = list(map(int, input().split()))\n",
        "  #print(\"input check\", s)\n",
        "  sum = 0\n",
        "  n = s[0]\n",
        "  #print(\"student number check :\", n)\n",
        "\n",
        "  for j in range(1, len(s)):\n",
        "    a = s[j]\n",
        "    sum += a\n",
        "  \n",
        "  #print(\"sum of students' score :\", sum)\n",
        "\n",
        "  avg = (sum / n)\n",
        "  #print(\"average :\", avg)\n",
        "\n",
        "  c = 0\n",
        "  for y in range(1, len(s)):\n",
        "    if s[y] > avg:\n",
        "      c += 1\n",
        "  \n",
        "  ratio = (c / (len(s) - 1)) * 100\n",
        "  print(\"{:.3f}%\".format(ratio))\n",
        "\n",
        "\n",
        "  "
      ],
      "metadata": {
        "colab": {
          "base_uri": "https://localhost:8080/"
        },
        "id": "CXtp9RRV6lU_",
        "outputId": "d04a2d02-1767-4c13-94ae-306845d3a386"
      },
      "execution_count": 20,
      "outputs": [
        {
          "output_type": "stream",
          "name": "stdout",
          "text": [
            "1\n",
            "5 50 50 70 80 100\n",
            "40.000%\n"
          ]
        }
      ]
    },
    {
      "cell_type": "code",
      "source": [
        ""
      ],
      "metadata": {
        "id": "eq1jNfLs1QvA"
      },
      "execution_count": null,
      "outputs": []
    }
  ]
}